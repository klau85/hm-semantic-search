{
 "cells": [
  {
   "cell_type": "code",
   "id": "initial_id",
   "metadata": {
    "collapsed": true,
    "ExecuteTime": {
     "end_time": "2025-06-25T09:11:39.664333Z",
     "start_time": "2025-06-25T09:11:36.866013Z"
    }
   },
   "source": [
    "import pandas as pd\n",
    "from dotenv import load_dotenv\n",
    "from langchain_community.document_loaders import DataFrameLoader\n",
    "from langchain_huggingface import HuggingFaceEmbeddings\n",
    "from langchain_community.vectorstores import Qdrant\n",
    "import torch\n",
    "from typing import List\n",
    "import math\n",
    "import os\n"
   ],
   "outputs": [],
   "execution_count": 1
  },
  {
   "metadata": {
    "ExecuteTime": {
     "end_time": "2025-06-25T09:11:41.109861Z",
     "start_time": "2025-06-25T09:11:39.919651Z"
    }
   },
   "cell_type": "code",
   "source": [
    "print(torch.version.cuda)  # CUDA version PyTorch was built with\n",
    "print(f\"CUDA available: {torch.cuda.is_available()}\")\n",
    "print(torch.backends.cudnn.version())  # cuDNN version\n",
    "print(torch.cuda.get_device_name(0))  # GPU name\n",
    "print(torch.__version__)  # PyTorch version\n"
   ],
   "id": "48509009476e9054",
   "outputs": [
    {
     "name": "stdout",
     "output_type": "stream",
     "text": [
      "11.8\n",
      "CUDA available: True\n",
      "90100\n",
      "NVIDIA GeForce RTX 3050 Laptop GPU\n",
      "2.7.1+cu118\n"
     ]
    }
   ],
   "execution_count": 2
  },
  {
   "metadata": {
    "ExecuteTime": {
     "end_time": "2025-06-25T09:11:41.182465Z",
     "start_time": "2025-06-25T09:11:41.168382Z"
    }
   },
   "cell_type": "code",
   "source": "load_dotenv()",
   "id": "c75705f6f4f8d06f",
   "outputs": [
    {
     "data": {
      "text/plain": [
       "True"
      ]
     },
     "execution_count": 3,
     "metadata": {},
     "output_type": "execute_result"
    }
   ],
   "execution_count": 3
  },
  {
   "metadata": {
    "ExecuteTime": {
     "end_time": "2025-06-25T09:11:41.315624Z",
     "start_time": "2025-06-25T09:11:41.309225Z"
    }
   },
   "cell_type": "code",
   "source": [
    "device = \"cuda\" if torch.cuda.is_available() else \"cpu\"\n",
    "device"
   ],
   "id": "54c43dd9c4862c20",
   "outputs": [
    {
     "data": {
      "text/plain": [
       "'cuda'"
      ]
     },
     "execution_count": 5,
     "metadata": {},
     "output_type": "execute_result"
    }
   ],
   "execution_count": 5
  },
  {
   "metadata": {
    "ExecuteTime": {
     "end_time": "2025-06-25T09:11:41.783530Z",
     "start_time": "2025-06-25T09:11:41.355682Z"
    }
   },
   "cell_type": "code",
   "source": "articles = pd.read_csv('data/articles_full_desc.csv', dtype={'article_id': str})",
   "id": "708251fa3d1d51e4",
   "outputs": [],
   "execution_count": 6
  },
  {
   "metadata": {
    "ExecuteTime": {
     "end_time": "2025-06-25T09:11:51.948841Z",
     "start_time": "2025-06-25T09:11:41.805221Z"
    }
   },
   "cell_type": "code",
   "source": [
    "embeddings = HuggingFaceEmbeddings(\n",
    "    model_name=os.getenv('HF_EMBEDDING_MODEL'),\n",
    "    model_kwargs={\n",
    "        'device': device,\n",
    "    }\n",
    ")"
   ],
   "id": "b55f2af2835d1c13",
   "outputs": [],
   "execution_count": 7
  },
  {
   "metadata": {
    "ExecuteTime": {
     "end_time": "2025-06-25T09:11:52.231543Z",
     "start_time": "2025-06-25T09:11:51.966566Z"
    }
   },
   "cell_type": "code",
   "source": "articles['full_description'].to_csv('data/full_desc.txt', index=False, sep='\\n', header=False, encoding='utf-8')",
   "id": "9e2fc4a562905c39",
   "outputs": [],
   "execution_count": 8
  },
  {
   "metadata": {
    "ExecuteTime": {
     "end_time": "2025-06-25T09:11:54.425011Z",
     "start_time": "2025-06-25T09:11:52.246521Z"
    }
   },
   "cell_type": "code",
   "source": [
    "loader = DataFrameLoader(articles[['article_id', 'full_description']], page_content_column='full_description')\n",
    "docs = loader.load()\n"
   ],
   "id": "720f5599c651558a",
   "outputs": [],
   "execution_count": 9
  },
  {
   "metadata": {
    "ExecuteTime": {
     "end_time": "2025-06-25T09:11:54.447420Z",
     "start_time": "2025-06-25T09:11:54.439770Z"
    }
   },
   "cell_type": "code",
   "source": [
    "def batch_import(documents: List, embeddings, batch_size: int = 100, **db_args):\n",
    "    # Initialize with first batch to create collection\n",
    "    total_batches = math.ceil(len(documents[batch_size:]) / batch_size)\n",
    "    first_batch = documents[:batch_size]\n",
    "    print(f\"Processing batch 1/{total_batches+1}\")\n",
    "\n",
    "    db = Qdrant.from_documents(\n",
    "        documents=first_batch,\n",
    "        embedding=embeddings,\n",
    "        url=os.getenv('DB_URL'),\n",
    "        **db_args\n",
    "    )\n",
    "\n",
    "    # Process remaining documents in batches\n",
    "    for i in range(total_batches):\n",
    "        start_idx = i * batch_size + batch_size  # Add batch_size because we already processed first batch\n",
    "        end_idx = start_idx + batch_size\n",
    "        batch = documents[start_idx:end_idx]\n",
    "        if batch:\n",
    "            print(f\"Processing batch {i+2}/{total_batches+1}\")  # +2 because we already did first batch\n",
    "            db.add_documents(documents=batch)\n",
    "\n",
    "    return db"
   ],
   "id": "c0efb787763544a0",
   "outputs": [],
   "execution_count": 10
  },
  {
   "metadata": {
    "ExecuteTime": {
     "end_time": "2025-06-25T09:39:33.029122Z",
     "start_time": "2025-06-25T09:12:20.212855Z"
    }
   },
   "cell_type": "code",
   "source": [
    "# Usage\n",
    "db_articles = batch_import(\n",
    "    documents=docs,\n",
    "    embeddings=embeddings,\n",
    "    batch_size=500,  # Adjust this based on your needs and memory constraints\n",
    "    collection_name=os.getenv('COLLECTION'),\n",
    ")\n"
   ],
   "id": "e8bfadc677d711b",
   "outputs": [
    {
     "name": "stdout",
     "output_type": "stream",
     "text": [
      "Processing batch 1/167\n",
      "Processing batch 2/167\n",
      "Processing batch 3/167\n",
      "Processing batch 4/167\n",
      "Processing batch 5/167\n",
      "Processing batch 6/167\n",
      "Processing batch 7/167\n",
      "Processing batch 8/167\n",
      "Processing batch 9/167\n",
      "Processing batch 10/167\n",
      "Processing batch 11/167\n",
      "Processing batch 12/167\n",
      "Processing batch 13/167\n",
      "Processing batch 14/167\n",
      "Processing batch 15/167\n",
      "Processing batch 16/167\n",
      "Processing batch 17/167\n",
      "Processing batch 18/167\n",
      "Processing batch 19/167\n",
      "Processing batch 20/167\n",
      "Processing batch 21/167\n",
      "Processing batch 22/167\n",
      "Processing batch 23/167\n",
      "Processing batch 24/167\n",
      "Processing batch 25/167\n",
      "Processing batch 26/167\n",
      "Processing batch 27/167\n",
      "Processing batch 28/167\n",
      "Processing batch 29/167\n",
      "Processing batch 30/167\n",
      "Processing batch 31/167\n",
      "Processing batch 32/167\n",
      "Processing batch 33/167\n",
      "Processing batch 34/167\n",
      "Processing batch 35/167\n",
      "Processing batch 36/167\n",
      "Processing batch 37/167\n",
      "Processing batch 38/167\n",
      "Processing batch 39/167\n",
      "Processing batch 40/167\n",
      "Processing batch 41/167\n",
      "Processing batch 42/167\n",
      "Processing batch 43/167\n",
      "Processing batch 44/167\n",
      "Processing batch 45/167\n",
      "Processing batch 46/167\n",
      "Processing batch 47/167\n",
      "Processing batch 48/167\n",
      "Processing batch 49/167\n",
      "Processing batch 50/167\n",
      "Processing batch 51/167\n",
      "Processing batch 52/167\n",
      "Processing batch 53/167\n",
      "Processing batch 54/167\n",
      "Processing batch 55/167\n",
      "Processing batch 56/167\n",
      "Processing batch 57/167\n",
      "Processing batch 58/167\n",
      "Processing batch 59/167\n",
      "Processing batch 60/167\n",
      "Processing batch 61/167\n",
      "Processing batch 62/167\n",
      "Processing batch 63/167\n",
      "Processing batch 64/167\n",
      "Processing batch 65/167\n",
      "Processing batch 66/167\n",
      "Processing batch 67/167\n",
      "Processing batch 68/167\n",
      "Processing batch 69/167\n",
      "Processing batch 70/167\n",
      "Processing batch 71/167\n",
      "Processing batch 72/167\n",
      "Processing batch 73/167\n",
      "Processing batch 74/167\n",
      "Processing batch 75/167\n",
      "Processing batch 76/167\n",
      "Processing batch 77/167\n",
      "Processing batch 78/167\n",
      "Processing batch 79/167\n",
      "Processing batch 80/167\n",
      "Processing batch 81/167\n",
      "Processing batch 82/167\n",
      "Processing batch 83/167\n",
      "Processing batch 84/167\n",
      "Processing batch 85/167\n",
      "Processing batch 86/167\n",
      "Processing batch 87/167\n",
      "Processing batch 88/167\n",
      "Processing batch 89/167\n",
      "Processing batch 90/167\n",
      "Processing batch 91/167\n",
      "Processing batch 92/167\n",
      "Processing batch 93/167\n",
      "Processing batch 94/167\n",
      "Processing batch 95/167\n",
      "Processing batch 96/167\n",
      "Processing batch 97/167\n",
      "Processing batch 98/167\n",
      "Processing batch 99/167\n",
      "Processing batch 100/167\n",
      "Processing batch 101/167\n",
      "Processing batch 102/167\n",
      "Processing batch 103/167\n",
      "Processing batch 104/167\n",
      "Processing batch 105/167\n",
      "Processing batch 106/167\n",
      "Processing batch 107/167\n",
      "Processing batch 108/167\n",
      "Processing batch 109/167\n",
      "Processing batch 110/167\n",
      "Processing batch 111/167\n",
      "Processing batch 112/167\n",
      "Processing batch 113/167\n",
      "Processing batch 114/167\n",
      "Processing batch 115/167\n",
      "Processing batch 116/167\n",
      "Processing batch 117/167\n",
      "Processing batch 118/167\n",
      "Processing batch 119/167\n",
      "Processing batch 120/167\n",
      "Processing batch 121/167\n",
      "Processing batch 122/167\n",
      "Processing batch 123/167\n",
      "Processing batch 124/167\n",
      "Processing batch 125/167\n",
      "Processing batch 126/167\n",
      "Processing batch 127/167\n",
      "Processing batch 128/167\n",
      "Processing batch 129/167\n",
      "Processing batch 130/167\n",
      "Processing batch 131/167\n",
      "Processing batch 132/167\n",
      "Processing batch 133/167\n",
      "Processing batch 134/167\n",
      "Processing batch 135/167\n",
      "Processing batch 136/167\n",
      "Processing batch 137/167\n",
      "Processing batch 138/167\n",
      "Processing batch 139/167\n",
      "Processing batch 140/167\n",
      "Processing batch 141/167\n",
      "Processing batch 142/167\n",
      "Processing batch 143/167\n",
      "Processing batch 144/167\n",
      "Processing batch 145/167\n",
      "Processing batch 146/167\n",
      "Processing batch 147/167\n",
      "Processing batch 148/167\n",
      "Processing batch 149/167\n",
      "Processing batch 150/167\n",
      "Processing batch 151/167\n",
      "Processing batch 152/167\n",
      "Processing batch 153/167\n",
      "Processing batch 154/167\n",
      "Processing batch 155/167\n",
      "Processing batch 156/167\n",
      "Processing batch 157/167\n",
      "Processing batch 158/167\n",
      "Processing batch 159/167\n",
      "Processing batch 160/167\n",
      "Processing batch 161/167\n",
      "Processing batch 162/167\n",
      "Processing batch 163/167\n",
      "Processing batch 164/167\n",
      "Processing batch 165/167\n",
      "Processing batch 166/167\n",
      "Processing batch 167/167\n"
     ]
    }
   ],
   "execution_count": 12
  },
  {
   "metadata": {
    "ExecuteTime": {
     "end_time": "2025-06-25T09:39:33.104282Z",
     "start_time": "2025-06-25T09:39:33.057139Z"
    }
   },
   "cell_type": "code",
   "source": "recs = db_articles.similarity_search_with_score('white shoes for women', k=10)",
   "id": "16b5cfa522d973ff",
   "outputs": [],
   "execution_count": 13
  },
  {
   "metadata": {
    "ExecuteTime": {
     "end_time": "2025-06-25T09:39:33.126497Z",
     "start_time": "2025-06-25T09:39:33.120752Z"
    }
   },
   "cell_type": "code",
   "source": "recs[0][0]",
   "id": "eb9f5dcc26109b44",
   "outputs": [
    {
     "data": {
      "text/plain": [
       "Document(metadata={'article_id': '0854184001', '_id': 'bedf9213-d5de-4c73-aa30-349fcd671570', '_collection_name': 'hm_articles'}, page_content='0854184001 Zoe Highlift of type Sneakers from group Shoes, section Womens Shoes and garment group Shoes. Product color is White and perceived color is Light. Trainers in canvas with lacing at the front and a loop at the back. Fabric linings and insoles and patterned soles. Platform 3 cm.')"
      ]
     },
     "execution_count": 14,
     "metadata": {},
     "output_type": "execute_result"
    }
   ],
   "execution_count": 14
  }
 ],
 "metadata": {
  "kernelspec": {
   "display_name": "Python 3",
   "language": "python",
   "name": "python3"
  },
  "language_info": {
   "codemirror_mode": {
    "name": "ipython",
    "version": 2
   },
   "file_extension": ".py",
   "mimetype": "text/x-python",
   "name": "python",
   "nbconvert_exporter": "python",
   "pygments_lexer": "ipython2",
   "version": "2.7.6"
  }
 },
 "nbformat": 4,
 "nbformat_minor": 5
}
